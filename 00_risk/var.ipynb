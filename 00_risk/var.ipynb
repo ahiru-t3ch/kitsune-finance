{
 "cells": [
  {
   "cell_type": "markdown",
   "id": "38c5e08b-97ff-45cd-a6f5-a5d279f874f3",
   "metadata": {},
   "source": [
    "# VaR - Value at Risk"
   ]
  },
  {
   "cell_type": "markdown",
   "id": "96159340-d7d5-4499-a038-98704fa9a524",
   "metadata": {},
   "source": [
    "There are 3 methods to compute Var:\n",
    "- Historical Simulation\n",
    "- Variance-Covariance VaR\n",
    "- Monte Carlo Simulation\n",
    "\n",
    "Here we'll use method Historical Simulation"
   ]
  },
  {
   "cell_type": "code",
   "execution_count": 61,
   "id": "3fab862a-fba4-49ed-ae1c-58ea09a05900",
   "metadata": {},
   "outputs": [],
   "source": [
    "import yfinance as yf\n",
    "import numpy as np\n",
    "import pandas as pd\n",
    "import matplotlib.pyplot as plt\n",
    "import matplotlib.ticker as mtick\n",
    "import seaborn as sns"
   ]
  },
  {
   "cell_type": "markdown",
   "id": "412f5cdb-01f4-4e96-afba-5a5e7586d074",
   "metadata": {},
   "source": [
    "Get data from Yahoo Finance for CW8 ETF"
   ]
  },
  {
   "cell_type": "code",
   "execution_count": 62,
   "id": "82446108-fe5f-495f-afab-bb62c9ce1af1",
   "metadata": {},
   "outputs": [],
   "source": [
    "dat = yf.Ticker(\"CW8.PA\")"
   ]
  },
  {
   "cell_type": "code",
   "execution_count": 63,
   "id": "c033fd4c-d84a-47d4-a5f3-150a95ff7959",
   "metadata": {},
   "outputs": [
    {
     "data": {
      "text/plain": [
       "'Amundi Index Solutions - Amundi MSCI World UCITS ETF C EUR'"
      ]
     },
     "execution_count": 63,
     "metadata": {},
     "output_type": "execute_result"
    }
   ],
   "source": [
    "dat.info['longName']"
   ]
  },
  {
   "cell_type": "markdown",
   "id": "0b1c46ca-c774-4afb-96c2-8861f47084e1",
   "metadata": {},
   "source": [
    "Set the data period to max, put result into a DataFrame (df) and print the end of the DataFrame:"
   ]
  },
  {
   "cell_type": "code",
   "execution_count": 64,
   "id": "cb1cfa9b-89fb-4aca-ab92-699c72fe2985",
   "metadata": {},
   "outputs": [],
   "source": [
    "df = dat.history(period='max')"
   ]
  },
  {
   "cell_type": "code",
   "execution_count": 65,
   "id": "17fcd594-0f08-490e-8115-291151eaba15",
   "metadata": {},
   "outputs": [
    {
     "data": {
      "text/html": [
       "<div>\n",
       "<style scoped>\n",
       "    .dataframe tbody tr th:only-of-type {\n",
       "        vertical-align: middle;\n",
       "    }\n",
       "\n",
       "    .dataframe tbody tr th {\n",
       "        vertical-align: top;\n",
       "    }\n",
       "\n",
       "    .dataframe thead th {\n",
       "        text-align: right;\n",
       "    }\n",
       "</style>\n",
       "<table border=\"1\" class=\"dataframe\">\n",
       "  <thead>\n",
       "    <tr style=\"text-align: right;\">\n",
       "      <th></th>\n",
       "      <th>Open</th>\n",
       "      <th>High</th>\n",
       "      <th>Low</th>\n",
       "      <th>Close</th>\n",
       "      <th>Volume</th>\n",
       "      <th>Dividends</th>\n",
       "      <th>Stock Splits</th>\n",
       "      <th>Capital Gains</th>\n",
       "    </tr>\n",
       "    <tr>\n",
       "      <th>Date</th>\n",
       "      <th></th>\n",
       "      <th></th>\n",
       "      <th></th>\n",
       "      <th></th>\n",
       "      <th></th>\n",
       "      <th></th>\n",
       "      <th></th>\n",
       "      <th></th>\n",
       "    </tr>\n",
       "  </thead>\n",
       "  <tbody>\n",
       "    <tr>\n",
       "      <th>2025-07-18 00:00:00+02:00</th>\n",
       "      <td>560.765076</td>\n",
       "      <td>560.944214</td>\n",
       "      <td>557.715515</td>\n",
       "      <td>558.339294</td>\n",
       "      <td>5706</td>\n",
       "      <td>0.0</td>\n",
       "      <td>0.0</td>\n",
       "      <td>0.0</td>\n",
       "    </tr>\n",
       "    <tr>\n",
       "      <th>2025-07-21 00:00:00+02:00</th>\n",
       "      <td>559.719299</td>\n",
       "      <td>560.335815</td>\n",
       "      <td>558.000000</td>\n",
       "      <td>558.890198</td>\n",
       "      <td>5263</td>\n",
       "      <td>0.0</td>\n",
       "      <td>0.0</td>\n",
       "      <td>0.0</td>\n",
       "    </tr>\n",
       "    <tr>\n",
       "      <th>2025-07-22 00:00:00+02:00</th>\n",
       "      <td>557.148193</td>\n",
       "      <td>557.913574</td>\n",
       "      <td>554.500122</td>\n",
       "      <td>555.143005</td>\n",
       "      <td>8017</td>\n",
       "      <td>0.0</td>\n",
       "      <td>0.0</td>\n",
       "      <td>0.0</td>\n",
       "    </tr>\n",
       "    <tr>\n",
       "      <th>2025-07-23 00:00:00+02:00</th>\n",
       "      <td>558.508789</td>\n",
       "      <td>560.499817</td>\n",
       "      <td>558.299988</td>\n",
       "      <td>559.756226</td>\n",
       "      <td>3620</td>\n",
       "      <td>0.0</td>\n",
       "      <td>0.0</td>\n",
       "      <td>0.0</td>\n",
       "    </tr>\n",
       "    <tr>\n",
       "      <th>2025-07-24 00:00:00+02:00</th>\n",
       "      <td>561.337585</td>\n",
       "      <td>562.255798</td>\n",
       "      <td>560.899414</td>\n",
       "      <td>561.725586</td>\n",
       "      <td>2778</td>\n",
       "      <td>0.0</td>\n",
       "      <td>0.0</td>\n",
       "      <td>0.0</td>\n",
       "    </tr>\n",
       "  </tbody>\n",
       "</table>\n",
       "</div>"
      ],
      "text/plain": [
       "                                 Open        High         Low       Close  \\\n",
       "Date                                                                        \n",
       "2025-07-18 00:00:00+02:00  560.765076  560.944214  557.715515  558.339294   \n",
       "2025-07-21 00:00:00+02:00  559.719299  560.335815  558.000000  558.890198   \n",
       "2025-07-22 00:00:00+02:00  557.148193  557.913574  554.500122  555.143005   \n",
       "2025-07-23 00:00:00+02:00  558.508789  560.499817  558.299988  559.756226   \n",
       "2025-07-24 00:00:00+02:00  561.337585  562.255798  560.899414  561.725586   \n",
       "\n",
       "                           Volume  Dividends  Stock Splits  Capital Gains  \n",
       "Date                                                                       \n",
       "2025-07-18 00:00:00+02:00    5706        0.0           0.0            0.0  \n",
       "2025-07-21 00:00:00+02:00    5263        0.0           0.0            0.0  \n",
       "2025-07-22 00:00:00+02:00    8017        0.0           0.0            0.0  \n",
       "2025-07-23 00:00:00+02:00    3620        0.0           0.0            0.0  \n",
       "2025-07-24 00:00:00+02:00    2778        0.0           0.0            0.0  "
      ]
     },
     "execution_count": 65,
     "metadata": {},
     "output_type": "execute_result"
    }
   ],
   "source": [
    "df.tail()"
   ]
  },
  {
   "cell_type": "markdown",
   "id": "70649638-1fcc-4292-ac09-34260ec0b9bb",
   "metadata": {},
   "source": [
    "Create column Yield and use function pct_change that cumputes the fractional change between current and previous element<br />\n",
    "[check documentation here: DataFrame.pct_change](https://pandas.pydata.org/docs/reference/api/pandas.DataFrame.pct_change.html)"
   ]
  },
  {
   "cell_type": "code",
   "execution_count": 66,
   "id": "1da8b440-d36e-4a32-8546-1afbc0835ad8",
   "metadata": {},
   "outputs": [],
   "source": [
    "df['Yield'] = df['Close'].pct_change().dropna()"
   ]
  },
  {
   "cell_type": "markdown",
   "id": "4cb5794c-d9ea-44fd-b51d-4151d100c59f",
   "metadata": {},
   "source": [
    "To computer VaR we need to sort Yield value"
   ]
  },
  {
   "cell_type": "code",
   "execution_count": 67,
   "id": "40cef65f-3412-4160-8a63-979843d1e193",
   "metadata": {},
   "outputs": [],
   "source": [
    "df_sorted = df.sort_values(by='Yield')"
   ]
  },
  {
   "cell_type": "code",
   "execution_count": 68,
   "id": "daceda26-01a2-447c-9c62-5fca839d37a0",
   "metadata": {},
   "outputs": [
    {
     "data": {
      "text/html": [
       "<div>\n",
       "<style scoped>\n",
       "    .dataframe tbody tr th:only-of-type {\n",
       "        vertical-align: middle;\n",
       "    }\n",
       "\n",
       "    .dataframe tbody tr th {\n",
       "        vertical-align: top;\n",
       "    }\n",
       "\n",
       "    .dataframe thead th {\n",
       "        text-align: right;\n",
       "    }\n",
       "</style>\n",
       "<table border=\"1\" class=\"dataframe\">\n",
       "  <thead>\n",
       "    <tr style=\"text-align: right;\">\n",
       "      <th></th>\n",
       "      <th>Open</th>\n",
       "      <th>High</th>\n",
       "      <th>Low</th>\n",
       "      <th>Close</th>\n",
       "      <th>Volume</th>\n",
       "      <th>Dividends</th>\n",
       "      <th>Stock Splits</th>\n",
       "      <th>Capital Gains</th>\n",
       "      <th>Yield</th>\n",
       "    </tr>\n",
       "    <tr>\n",
       "      <th>Date</th>\n",
       "      <th></th>\n",
       "      <th></th>\n",
       "      <th></th>\n",
       "      <th></th>\n",
       "      <th></th>\n",
       "      <th></th>\n",
       "      <th></th>\n",
       "      <th></th>\n",
       "      <th></th>\n",
       "    </tr>\n",
       "  </thead>\n",
       "  <tbody>\n",
       "    <tr>\n",
       "      <th>2020-03-12 00:00:00+01:00</th>\n",
       "      <td>248.999802</td>\n",
       "      <td>250.500000</td>\n",
       "      <td>235.500000</td>\n",
       "      <td>238.630005</td>\n",
       "      <td>27730</td>\n",
       "      <td>0.0</td>\n",
       "      <td>0.0</td>\n",
       "      <td>0.0</td>\n",
       "      <td>-0.082651</td>\n",
       "    </tr>\n",
       "    <tr>\n",
       "      <th>2020-03-09 00:00:00+01:00</th>\n",
       "      <td>263.179993</td>\n",
       "      <td>267.798004</td>\n",
       "      <td>256.000000</td>\n",
       "      <td>263.010315</td>\n",
       "      <td>15872</td>\n",
       "      <td>0.0</td>\n",
       "      <td>0.0</td>\n",
       "      <td>0.0</td>\n",
       "      <td>-0.062524</td>\n",
       "    </tr>\n",
       "    <tr>\n",
       "      <th>2015-08-24 00:00:00+02:00</th>\n",
       "      <td>187.429596</td>\n",
       "      <td>187.429596</td>\n",
       "      <td>187.429596</td>\n",
       "      <td>187.429596</td>\n",
       "      <td>0</td>\n",
       "      <td>0.0</td>\n",
       "      <td>0.0</td>\n",
       "      <td>0.0</td>\n",
       "      <td>-0.058994</td>\n",
       "    </tr>\n",
       "    <tr>\n",
       "      <th>2020-03-23 00:00:00+01:00</th>\n",
       "      <td>221.649994</td>\n",
       "      <td>233.468094</td>\n",
       "      <td>218.071503</td>\n",
       "      <td>222.020401</td>\n",
       "      <td>15473</td>\n",
       "      <td>0.0</td>\n",
       "      <td>0.0</td>\n",
       "      <td>0.0</td>\n",
       "      <td>-0.056236</td>\n",
       "    </tr>\n",
       "    <tr>\n",
       "      <th>2011-08-08 00:00:00+02:00</th>\n",
       "      <td>100.519997</td>\n",
       "      <td>100.519997</td>\n",
       "      <td>100.519997</td>\n",
       "      <td>100.519997</td>\n",
       "      <td>0</td>\n",
       "      <td>0.0</td>\n",
       "      <td>0.0</td>\n",
       "      <td>0.0</td>\n",
       "      <td>-0.050892</td>\n",
       "    </tr>\n",
       "    <tr>\n",
       "      <th>...</th>\n",
       "      <td>...</td>\n",
       "      <td>...</td>\n",
       "      <td>...</td>\n",
       "      <td>...</td>\n",
       "      <td>...</td>\n",
       "      <td>...</td>\n",
       "      <td>...</td>\n",
       "      <td>...</td>\n",
       "      <td>...</td>\n",
       "    </tr>\n",
       "    <tr>\n",
       "      <th>2015-08-27 00:00:00+02:00</th>\n",
       "      <td>200.913696</td>\n",
       "      <td>200.913696</td>\n",
       "      <td>200.913696</td>\n",
       "      <td>200.913696</td>\n",
       "      <td>0</td>\n",
       "      <td>0.0</td>\n",
       "      <td>0.0</td>\n",
       "      <td>0.0</td>\n",
       "      <td>0.038356</td>\n",
       "    </tr>\n",
       "    <tr>\n",
       "      <th>2025-04-10 00:00:00+02:00</th>\n",
       "      <td>510.766205</td>\n",
       "      <td>511.797607</td>\n",
       "      <td>484.892395</td>\n",
       "      <td>484.892395</td>\n",
       "      <td>27284</td>\n",
       "      <td>0.0</td>\n",
       "      <td>0.0</td>\n",
       "      <td>0.0</td>\n",
       "      <td>0.039577</td>\n",
       "    </tr>\n",
       "    <tr>\n",
       "      <th>2020-04-06 00:00:00+02:00</th>\n",
       "      <td>254.009995</td>\n",
       "      <td>256.290588</td>\n",
       "      <td>252.212997</td>\n",
       "      <td>255.490005</td>\n",
       "      <td>15751</td>\n",
       "      <td>0.0</td>\n",
       "      <td>0.0</td>\n",
       "      <td>0.0</td>\n",
       "      <td>0.040814</td>\n",
       "    </tr>\n",
       "    <tr>\n",
       "      <th>2020-03-24 00:00:00+01:00</th>\n",
       "      <td>231.104202</td>\n",
       "      <td>240.710007</td>\n",
       "      <td>227.789993</td>\n",
       "      <td>240.274399</td>\n",
       "      <td>21954</td>\n",
       "      <td>0.0</td>\n",
       "      <td>0.0</td>\n",
       "      <td>0.0</td>\n",
       "      <td>0.082218</td>\n",
       "    </tr>\n",
       "    <tr>\n",
       "      <th>2009-06-16 00:00:00+02:00</th>\n",
       "      <td>83.919998</td>\n",
       "      <td>83.919998</td>\n",
       "      <td>83.919998</td>\n",
       "      <td>83.919998</td>\n",
       "      <td>0</td>\n",
       "      <td>0.0</td>\n",
       "      <td>0.0</td>\n",
       "      <td>0.0</td>\n",
       "      <td>NaN</td>\n",
       "    </tr>\n",
       "  </tbody>\n",
       "</table>\n",
       "<p>4121 rows × 9 columns</p>\n",
       "</div>"
      ],
      "text/plain": [
       "                                 Open        High         Low       Close  \\\n",
       "Date                                                                        \n",
       "2020-03-12 00:00:00+01:00  248.999802  250.500000  235.500000  238.630005   \n",
       "2020-03-09 00:00:00+01:00  263.179993  267.798004  256.000000  263.010315   \n",
       "2015-08-24 00:00:00+02:00  187.429596  187.429596  187.429596  187.429596   \n",
       "2020-03-23 00:00:00+01:00  221.649994  233.468094  218.071503  222.020401   \n",
       "2011-08-08 00:00:00+02:00  100.519997  100.519997  100.519997  100.519997   \n",
       "...                               ...         ...         ...         ...   \n",
       "2015-08-27 00:00:00+02:00  200.913696  200.913696  200.913696  200.913696   \n",
       "2025-04-10 00:00:00+02:00  510.766205  511.797607  484.892395  484.892395   \n",
       "2020-04-06 00:00:00+02:00  254.009995  256.290588  252.212997  255.490005   \n",
       "2020-03-24 00:00:00+01:00  231.104202  240.710007  227.789993  240.274399   \n",
       "2009-06-16 00:00:00+02:00   83.919998   83.919998   83.919998   83.919998   \n",
       "\n",
       "                           Volume  Dividends  Stock Splits  Capital Gains  \\\n",
       "Date                                                                        \n",
       "2020-03-12 00:00:00+01:00   27730        0.0           0.0            0.0   \n",
       "2020-03-09 00:00:00+01:00   15872        0.0           0.0            0.0   \n",
       "2015-08-24 00:00:00+02:00       0        0.0           0.0            0.0   \n",
       "2020-03-23 00:00:00+01:00   15473        0.0           0.0            0.0   \n",
       "2011-08-08 00:00:00+02:00       0        0.0           0.0            0.0   \n",
       "...                           ...        ...           ...            ...   \n",
       "2015-08-27 00:00:00+02:00       0        0.0           0.0            0.0   \n",
       "2025-04-10 00:00:00+02:00   27284        0.0           0.0            0.0   \n",
       "2020-04-06 00:00:00+02:00   15751        0.0           0.0            0.0   \n",
       "2020-03-24 00:00:00+01:00   21954        0.0           0.0            0.0   \n",
       "2009-06-16 00:00:00+02:00       0        0.0           0.0            0.0   \n",
       "\n",
       "                              Yield  \n",
       "Date                                 \n",
       "2020-03-12 00:00:00+01:00 -0.082651  \n",
       "2020-03-09 00:00:00+01:00 -0.062524  \n",
       "2015-08-24 00:00:00+02:00 -0.058994  \n",
       "2020-03-23 00:00:00+01:00 -0.056236  \n",
       "2011-08-08 00:00:00+02:00 -0.050892  \n",
       "...                             ...  \n",
       "2015-08-27 00:00:00+02:00  0.038356  \n",
       "2025-04-10 00:00:00+02:00  0.039577  \n",
       "2020-04-06 00:00:00+02:00  0.040814  \n",
       "2020-03-24 00:00:00+01:00  0.082218  \n",
       "2009-06-16 00:00:00+02:00       NaN  \n",
       "\n",
       "[4121 rows x 9 columns]"
      ]
     },
     "execution_count": 68,
     "metadata": {},
     "output_type": "execute_result"
    }
   ],
   "source": [
    "df_sorted"
   ]
  },
  {
   "cell_type": "code",
   "execution_count": 69,
   "id": "83c82395-a7ba-4345-a4d5-03ae8f7a00e6",
   "metadata": {},
   "outputs": [
    {
     "name": "stdout",
     "output_type": "stream",
     "text": [
      "Var 95% is : -1.44%\n"
     ]
    }
   ],
   "source": [
    "print('Var 95% is : '+ (np.percentile(df_sorted['Yield'].dropna(), 5)*100).round(2).astype(str) + '%')"
   ]
  },
  {
   "cell_type": "markdown",
   "id": "1b4ca1db-8226-436b-a36a-eb9b9e26b795",
   "metadata": {},
   "source": [
    "This means there is a probability of 5% (1 - 95%) to loose more than -1.44% per day.\n",
    "Meaning 95% of the time the loss will be inferior to -1.44%."
   ]
  },
  {
   "cell_type": "code",
   "execution_count": 56,
   "id": "582c38cb-4c39-41e4-a5e2-c5ab6a785fad",
   "metadata": {},
   "outputs": [
    {
     "data": {
      "image/png": "[encoded data removed]",
      "text/plain": [
       "<Figure size 640x480 with 1 Axes>"
      ]
     },
     "metadata": {},
     "output_type": "display_data"
    }
   ],
   "source": [
    "sns.histplot(df_sorted['Yield'], bins=100, kde=True, color='lightblue')\n",
    "\n",
    "var_95 = np.percentile(df_sorted['Yield'].dropna(), 5)\n",
    "\n",
    "plt.axvline(var_95, color='red', linestyle='--', label=f'VaR 95%: {var_95:.2%}')\n",
    "plt.legend()\n",
    "plt.title(\"Yield distribution for VaR 95%\")\n",
    "plt.xlabel(\"Yield\")\n",
    "plt.ylabel(\"Frequency\")\n",
    "plt.gca().xaxis.set_major_formatter(mtick.PercentFormatter(1.0))\n",
    "plt.show()"
   ]
  }
 ],
 "metadata": {
  "kernelspec": {
   "display_name": "Python 3 (ipykernel)",
   "language": "python",
   "name": "python3"
  },
  "language_info": {
   "codemirror_mode": {
    "name": "ipython",
    "version": 3
   },
   "file_extension": ".py",
   "mimetype": "text/x-python",
   "name": "python",
   "nbconvert_exporter": "python",
   "pygments_lexer": "ipython3",
   "version": "3.12.3"
  }
 },
 "nbformat": 4,
 "nbformat_minor": 5
}
