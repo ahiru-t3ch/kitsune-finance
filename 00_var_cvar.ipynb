{
 "cells": [
  {
   "cell_type": "markdown",
   "id": "38c5e08b-97ff-45cd-a6f5-a5d279f874f3",
   "metadata": {},
   "source": [
    "# VaR and CVaR"
   ]
  },
  {
   "cell_type": "markdown",
   "id": "96159340-d7d5-4499-a038-98704fa9a524",
   "metadata": {},
   "source": [
    "## Definition\n",
    "### VaR - Value at Risk\n",
    "Potential loss of a financial asset or a portfolio for a trust level and a specific period.\n",
    "\n",
    "There are 3 methods to compute VaR:\n",
    "- Historical Simulation (the one used here)\n",
    "- Variance-Covariance VaR\n",
    "- Monte Carlo Simulation\n",
    "\n",
    "Method to compute the Historical VaR:\n",
    "- Get historical market data for a financial product\n",
    "- Compute and Sort financial yields\n",
    "- Take the quantile corresponding to the trust level alpha\n",
    "\n",
    "### CVAR - Conditional Value at Risk\n",
    "- Average loss when VaR is exceeded\n",
    "- Meaning average loss for worst scenarios\n",
    "- To compute CVaR we need to get the financial yields returns inferiors to the VaR, and get the average"
   ]
  },
  {
   "cell_type": "markdown",
   "id": "aa4912f7-7bbf-4504-a4bb-e40f2a31461a",
   "metadata": {},
   "source": [
    "## Manually apply the method for 1 financial product"
   ]
  },
  {
   "cell_type": "code",
   "execution_count": 25,
   "id": "3fab862a-fba4-49ed-ae1c-58ea09a05900",
   "metadata": {},
   "outputs": [],
   "source": [
    "from datetime import date\n",
    "import yfinance as yf\n",
    "import numpy as np\n",
    "import pandas as pd\n",
    "import matplotlib.pyplot as plt\n",
    "import matplotlib.ticker as mtick\n",
    "import seaborn as sns"
   ]
  },
  {
   "cell_type": "markdown",
   "id": "1555fecd-3639-4e20-a3a8-27752f104082",
   "metadata": {},
   "source": [
    "### Get market data\n",
    "We'll get data for CW8 ETF"
   ]
  },
  {
   "cell_type": "code",
   "execution_count": 26,
   "id": "82446108-fe5f-495f-afab-bb62c9ce1af1",
   "metadata": {},
   "outputs": [
    {
     "data": {
      "text/plain": [
       "'Amundi Index Solutions - Amundi MSCI World UCITS ETF C EUR'"
      ]
     },
     "execution_count": 26,
     "metadata": {},
     "output_type": "execute_result"
    }
   ],
   "source": [
    "# Get data from Yahoo Finance for CW8 ETF\n",
    "dat = yf.Ticker(\"CW8.PA\")\n",
    "# Print Name\n",
    "dat.info['longName']"
   ]
  },
  {
   "cell_type": "code",
   "execution_count": 27,
   "id": "cb1cfa9b-89fb-4aca-ab92-699c72fe2985",
   "metadata": {},
   "outputs": [
    {
     "data": {
      "text/html": [
       "<div>\n",
       "<style scoped>\n",
       "    .dataframe tbody tr th:only-of-type {\n",
       "        vertical-align: middle;\n",
       "    }\n",
       "\n",
       "    .dataframe tbody tr th {\n",
       "        vertical-align: top;\n",
       "    }\n",
       "\n",
       "    .dataframe thead th {\n",
       "        text-align: right;\n",
       "    }\n",
       "</style>\n",
       "<table border=\"1\" class=\"dataframe\">\n",
       "  <thead>\n",
       "    <tr style=\"text-align: right;\">\n",
       "      <th></th>\n",
       "      <th>Open</th>\n",
       "      <th>High</th>\n",
       "      <th>Low</th>\n",
       "      <th>Close</th>\n",
       "      <th>Volume</th>\n",
       "      <th>Dividends</th>\n",
       "      <th>Stock Splits</th>\n",
       "      <th>Capital Gains</th>\n",
       "    </tr>\n",
       "    <tr>\n",
       "      <th>Date</th>\n",
       "      <th></th>\n",
       "      <th></th>\n",
       "      <th></th>\n",
       "      <th></th>\n",
       "      <th></th>\n",
       "      <th></th>\n",
       "      <th></th>\n",
       "      <th></th>\n",
       "    </tr>\n",
       "  </thead>\n",
       "  <tbody>\n",
       "    <tr>\n",
       "      <th>2025-07-28 00:00:00+02:00</th>\n",
       "      <td>566.005981</td>\n",
       "      <td>567.500000</td>\n",
       "      <td>565.374329</td>\n",
       "      <td>566.783875</td>\n",
       "      <td>9792</td>\n",
       "      <td>0.0</td>\n",
       "      <td>0.0</td>\n",
       "      <td>0.0</td>\n",
       "    </tr>\n",
       "    <tr>\n",
       "      <th>2025-07-29 00:00:00+02:00</th>\n",
       "      <td>570.647583</td>\n",
       "      <td>572.344421</td>\n",
       "      <td>569.000000</td>\n",
       "      <td>569.062927</td>\n",
       "      <td>6715</td>\n",
       "      <td>0.0</td>\n",
       "      <td>0.0</td>\n",
       "      <td>0.0</td>\n",
       "    </tr>\n",
       "    <tr>\n",
       "      <th>2025-07-30 00:00:00+02:00</th>\n",
       "      <td>568.938904</td>\n",
       "      <td>573.000000</td>\n",
       "      <td>568.299072</td>\n",
       "      <td>571.814026</td>\n",
       "      <td>6276</td>\n",
       "      <td>0.0</td>\n",
       "      <td>0.0</td>\n",
       "      <td>0.0</td>\n",
       "    </tr>\n",
       "    <tr>\n",
       "      <th>2025-07-31 00:00:00+02:00</th>\n",
       "      <td>576.367310</td>\n",
       "      <td>578.000000</td>\n",
       "      <td>571.747620</td>\n",
       "      <td>573.035889</td>\n",
       "      <td>8356</td>\n",
       "      <td>0.0</td>\n",
       "      <td>0.0</td>\n",
       "      <td>0.0</td>\n",
       "    </tr>\n",
       "    <tr>\n",
       "      <th>2025-08-01 00:00:00+02:00</th>\n",
       "      <td>568.035400</td>\n",
       "      <td>568.035400</td>\n",
       "      <td>553.002014</td>\n",
       "      <td>556.131409</td>\n",
       "      <td>12668</td>\n",
       "      <td>0.0</td>\n",
       "      <td>0.0</td>\n",
       "      <td>0.0</td>\n",
       "    </tr>\n",
       "  </tbody>\n",
       "</table>\n",
       "</div>"
      ],
      "text/plain": [
       "                                 Open        High         Low       Close  \\\n",
       "Date                                                                        \n",
       "2025-07-28 00:00:00+02:00  566.005981  567.500000  565.374329  566.783875   \n",
       "2025-07-29 00:00:00+02:00  570.647583  572.344421  569.000000  569.062927   \n",
       "2025-07-30 00:00:00+02:00  568.938904  573.000000  568.299072  571.814026   \n",
       "2025-07-31 00:00:00+02:00  576.367310  578.000000  571.747620  573.035889   \n",
       "2025-08-01 00:00:00+02:00  568.035400  568.035400  553.002014  556.131409   \n",
       "\n",
       "                           Volume  Dividends  Stock Splits  Capital Gains  \n",
       "Date                                                                       \n",
       "2025-07-28 00:00:00+02:00    9792        0.0           0.0            0.0  \n",
       "2025-07-29 00:00:00+02:00    6715        0.0           0.0            0.0  \n",
       "2025-07-30 00:00:00+02:00    6276        0.0           0.0            0.0  \n",
       "2025-07-31 00:00:00+02:00    8356        0.0           0.0            0.0  \n",
       "2025-08-01 00:00:00+02:00   12668        0.0           0.0            0.0  "
      ]
     },
     "execution_count": 27,
     "metadata": {},
     "output_type": "execute_result"
    }
   ],
   "source": [
    "# Get data for a specific period\n",
    "# NB: replace by \"period = max\" to get all data\n",
    "# and put result into dataframe\n",
    "today = date.today().strftime(\"%Y-%m-%d\")\n",
    "df = dat.history(start='2022-01-01', end=today)\n",
    "\n",
    "# Print tail of the dataframe\n",
    "df.tail()"
   ]
  },
  {
   "cell_type": "markdown",
   "id": "24cb15aa-2456-4cb5-bb42-6c751b463198",
   "metadata": {},
   "source": [
    "### Compute and Sort financial yields"
   ]
  },
  {
   "cell_type": "code",
   "execution_count": 28,
   "id": "1da8b440-d36e-4a32-8546-1afbc0835ad8",
   "metadata": {},
   "outputs": [
    {
     "data": {
      "text/html": [
       "<div>\n",
       "<style scoped>\n",
       "    .dataframe tbody tr th:only-of-type {\n",
       "        vertical-align: middle;\n",
       "    }\n",
       "\n",
       "    .dataframe tbody tr th {\n",
       "        vertical-align: top;\n",
       "    }\n",
       "\n",
       "    .dataframe thead th {\n",
       "        text-align: right;\n",
       "    }\n",
       "</style>\n",
       "<table border=\"1\" class=\"dataframe\">\n",
       "  <thead>\n",
       "    <tr style=\"text-align: right;\">\n",
       "      <th></th>\n",
       "      <th>Open</th>\n",
       "      <th>High</th>\n",
       "      <th>Low</th>\n",
       "      <th>Close</th>\n",
       "      <th>Volume</th>\n",
       "      <th>Dividends</th>\n",
       "      <th>Stock Splits</th>\n",
       "      <th>Capital Gains</th>\n",
       "      <th>yield_return</th>\n",
       "    </tr>\n",
       "    <tr>\n",
       "      <th>Date</th>\n",
       "      <th></th>\n",
       "      <th></th>\n",
       "      <th></th>\n",
       "      <th></th>\n",
       "      <th></th>\n",
       "      <th></th>\n",
       "      <th></th>\n",
       "      <th></th>\n",
       "      <th></th>\n",
       "    </tr>\n",
       "  </thead>\n",
       "  <tbody>\n",
       "    <tr>\n",
       "      <th>2025-04-03 00:00:00+02:00</th>\n",
       "      <td>518.130676</td>\n",
       "      <td>521.133606</td>\n",
       "      <td>506.399994</td>\n",
       "      <td>511.153809</td>\n",
       "      <td>23464</td>\n",
       "      <td>0.0</td>\n",
       "      <td>0.0</td>\n",
       "      <td>0.0</td>\n",
       "      <td>-0.049131</td>\n",
       "    </tr>\n",
       "    <tr>\n",
       "      <th>2025-04-09 00:00:00+02:00</th>\n",
       "      <td>468.564301</td>\n",
       "      <td>473.851898</td>\n",
       "      <td>456.474091</td>\n",
       "      <td>466.432587</td>\n",
       "      <td>21379</td>\n",
       "      <td>0.0</td>\n",
       "      <td>0.0</td>\n",
       "      <td>0.0</td>\n",
       "      <td>-0.047044</td>\n",
       "    </tr>\n",
       "    <tr>\n",
       "      <th>2025-04-04 00:00:00+02:00</th>\n",
       "      <td>504.045807</td>\n",
       "      <td>505.296112</td>\n",
       "      <td>482.500000</td>\n",
       "      <td>487.880005</td>\n",
       "      <td>33294</td>\n",
       "      <td>0.0</td>\n",
       "      <td>0.0</td>\n",
       "      <td>0.0</td>\n",
       "      <td>-0.045532</td>\n",
       "    </tr>\n",
       "    <tr>\n",
       "      <th>2022-01-24 00:00:00+01:00</th>\n",
       "      <td>407.884094</td>\n",
       "      <td>408.857086</td>\n",
       "      <td>394.380005</td>\n",
       "      <td>395.134491</td>\n",
       "      <td>21288</td>\n",
       "      <td>0.0</td>\n",
       "      <td>0.0</td>\n",
       "      <td>0.0</td>\n",
       "      <td>-0.040540</td>\n",
       "    </tr>\n",
       "    <tr>\n",
       "      <th>2024-08-02 00:00:00+02:00</th>\n",
       "      <td>509.501099</td>\n",
       "      <td>510.082092</td>\n",
       "      <td>495.000092</td>\n",
       "      <td>496.610107</td>\n",
       "      <td>12875</td>\n",
       "      <td>0.0</td>\n",
       "      <td>0.0</td>\n",
       "      <td>0.0</td>\n",
       "      <td>-0.039840</td>\n",
       "    </tr>\n",
       "    <tr>\n",
       "      <th>...</th>\n",
       "      <td>...</td>\n",
       "      <td>...</td>\n",
       "      <td>...</td>\n",
       "      <td>...</td>\n",
       "      <td>...</td>\n",
       "      <td>...</td>\n",
       "      <td>...</td>\n",
       "      <td>...</td>\n",
       "      <td>...</td>\n",
       "    </tr>\n",
       "    <tr>\n",
       "      <th>2022-02-25 00:00:00+01:00</th>\n",
       "      <td>395.320007</td>\n",
       "      <td>402.694305</td>\n",
       "      <td>393.411499</td>\n",
       "      <td>402.694305</td>\n",
       "      <td>4336</td>\n",
       "      <td>0.0</td>\n",
       "      <td>0.0</td>\n",
       "      <td>0.0</td>\n",
       "      <td>0.031448</td>\n",
       "    </tr>\n",
       "    <tr>\n",
       "      <th>2025-05-12 00:00:00+02:00</th>\n",
       "      <td>540.088196</td>\n",
       "      <td>547.274780</td>\n",
       "      <td>539.562622</td>\n",
       "      <td>543.510620</td>\n",
       "      <td>11768</td>\n",
       "      <td>0.0</td>\n",
       "      <td>0.0</td>\n",
       "      <td>0.0</td>\n",
       "      <td>0.032785</td>\n",
       "    </tr>\n",
       "    <tr>\n",
       "      <th>2025-04-08 00:00:00+02:00</th>\n",
       "      <td>482.922485</td>\n",
       "      <td>497.624695</td>\n",
       "      <td>481.584015</td>\n",
       "      <td>489.458588</td>\n",
       "      <td>21315</td>\n",
       "      <td>0.0</td>\n",
       "      <td>0.0</td>\n",
       "      <td>0.0</td>\n",
       "      <td>0.034946</td>\n",
       "    </tr>\n",
       "    <tr>\n",
       "      <th>2025-04-10 00:00:00+02:00</th>\n",
       "      <td>510.766205</td>\n",
       "      <td>511.797607</td>\n",
       "      <td>484.892395</td>\n",
       "      <td>484.892395</td>\n",
       "      <td>27284</td>\n",
       "      <td>0.0</td>\n",
       "      <td>0.0</td>\n",
       "      <td>0.0</td>\n",
       "      <td>0.039577</td>\n",
       "    </tr>\n",
       "    <tr>\n",
       "      <th>2022-01-03 00:00:00+01:00</th>\n",
       "      <td>435.542908</td>\n",
       "      <td>437.246185</td>\n",
       "      <td>433.701813</td>\n",
       "      <td>435.989899</td>\n",
       "      <td>6803</td>\n",
       "      <td>0.0</td>\n",
       "      <td>0.0</td>\n",
       "      <td>0.0</td>\n",
       "      <td>NaN</td>\n",
       "    </tr>\n",
       "  </tbody>\n",
       "</table>\n",
       "<p>917 rows × 9 columns</p>\n",
       "</div>"
      ],
      "text/plain": [
       "                                 Open        High         Low       Close  \\\n",
       "Date                                                                        \n",
       "2025-04-03 00:00:00+02:00  518.130676  521.133606  506.399994  511.153809   \n",
       "2025-04-09 00:00:00+02:00  468.564301  473.851898  456.474091  466.432587   \n",
       "2025-04-04 00:00:00+02:00  504.045807  505.296112  482.500000  487.880005   \n",
       "2022-01-24 00:00:00+01:00  407.884094  408.857086  394.380005  395.134491   \n",
       "2024-08-02 00:00:00+02:00  509.501099  510.082092  495.000092  496.610107   \n",
       "...                               ...         ...         ...         ...   \n",
       "2022-02-25 00:00:00+01:00  395.320007  402.694305  393.411499  402.694305   \n",
       "2025-05-12 00:00:00+02:00  540.088196  547.274780  539.562622  543.510620   \n",
       "2025-04-08 00:00:00+02:00  482.922485  497.624695  481.584015  489.458588   \n",
       "2025-04-10 00:00:00+02:00  510.766205  511.797607  484.892395  484.892395   \n",
       "2022-01-03 00:00:00+01:00  435.542908  437.246185  433.701813  435.989899   \n",
       "\n",
       "                           Volume  Dividends  Stock Splits  Capital Gains  \\\n",
       "Date                                                                        \n",
       "2025-04-03 00:00:00+02:00   23464        0.0           0.0            0.0   \n",
       "2025-04-09 00:00:00+02:00   21379        0.0           0.0            0.0   \n",
       "2025-04-04 00:00:00+02:00   33294        0.0           0.0            0.0   \n",
       "2022-01-24 00:00:00+01:00   21288        0.0           0.0            0.0   \n",
       "2024-08-02 00:00:00+02:00   12875        0.0           0.0            0.0   \n",
       "...                           ...        ...           ...            ...   \n",
       "2022-02-25 00:00:00+01:00    4336        0.0           0.0            0.0   \n",
       "2025-05-12 00:00:00+02:00   11768        0.0           0.0            0.0   \n",
       "2025-04-08 00:00:00+02:00   21315        0.0           0.0            0.0   \n",
       "2025-04-10 00:00:00+02:00   27284        0.0           0.0            0.0   \n",
       "2022-01-03 00:00:00+01:00    6803        0.0           0.0            0.0   \n",
       "\n",
       "                           yield_return  \n",
       "Date                                     \n",
       "2025-04-03 00:00:00+02:00     -0.049131  \n",
       "2025-04-09 00:00:00+02:00     -0.047044  \n",
       "2025-04-04 00:00:00+02:00     -0.045532  \n",
       "2022-01-24 00:00:00+01:00     -0.040540  \n",
       "2024-08-02 00:00:00+02:00     -0.039840  \n",
       "...                                 ...  \n",
       "2022-02-25 00:00:00+01:00      0.031448  \n",
       "2025-05-12 00:00:00+02:00      0.032785  \n",
       "2025-04-08 00:00:00+02:00      0.034946  \n",
       "2025-04-10 00:00:00+02:00      0.039577  \n",
       "2022-01-03 00:00:00+01:00           NaN  \n",
       "\n",
       "[917 rows x 9 columns]"
      ]
     },
     "execution_count": 28,
     "metadata": {},
     "output_type": "execute_result"
    }
   ],
   "source": [
    "# Create column yield_return\n",
    "# Use function pct_change that computes the fractional change between current and previous element to do it\n",
    "df['yield_return'] = df['Close'].pct_change().dropna()\n",
    "# To computer VaR we need to sort Yield value\n",
    "df_sorted = df.sort_values(by='yield_return')\n",
    "df_sorted"
   ]
  },
  {
   "cell_type": "markdown",
   "id": "ce572dd2-1a23-4ffe-86fa-48daf2a7fc09",
   "metadata": {},
   "source": [
    "### VaR: Quantile corresponding to the trust level alpha\n",
    "Here alpha is 95%\n",
    "And Portfolio amount is 1 000 000 € of CW8"
   ]
  },
  {
   "cell_type": "code",
   "execution_count": 29,
   "id": "83c82395-a7ba-4345-a4d5-03ae8f7a00e6",
   "metadata": {},
   "outputs": [
    {
     "name": "stdout",
     "output_type": "stream",
     "text": [
      "VaR 95%:\n",
      "There is a probability of 5.0% to lose more than -1.5% per day\n",
      "Or to lose -15049.21 EUR for a portfolio of 1000000 EUR of CW8\n"
     ]
    }
   ],
   "source": [
    "# Inputs data to compute Historical VaR\n",
    "sorted_yield_returns = df_sorted['yield_return'].dropna()\n",
    "alpha = 95/100\n",
    "value_portfolio = 1000000\n",
    "\n",
    "# Compute Historical VaR in percentage\n",
    "# and value for a given portfolio of 1 000 000 EUR of CW8\n",
    "var95_hist_percent = np.percentile(sorted_yield_returns, (1 - alpha) * 100)\n",
    "var95_hist_value = var_hist_percent * value_portfolio\n",
    "\n",
    "print('VaR 95%:')\n",
    "print('There is a probability of ' +str(100 - alpha*100)+ '% to lose more than ' + str((var95_hist_percent*100).round(2)) + '% per day')\n",
    "print('Or to lose ' + str(var95_hist_value.round(2)) + ' EUR for a portfolio of ' + str(value_portfolio) + ' EUR of CW8')"
   ]
  },
  {
   "cell_type": "markdown",
   "id": "07512f95-89e2-441e-b15d-8175441d6e47",
   "metadata": {},
   "source": [
    "### CVaR: average yields inferior to VaR"
   ]
  },
  {
   "cell_type": "code",
   "execution_count": 30,
   "id": "de3061f3-dbd9-4db3-915a-8381de320691",
   "metadata": {},
   "outputs": [
    {
     "name": "stdout",
     "output_type": "stream",
     "text": [
      "CVaR 95%:\n",
      "The average loss when VaR is exceeded is-2.37%\n",
      "Or losing -23702.81 EUR for a portfolio of 1000000 EUR of CW8\n"
     ]
    }
   ],
   "source": [
    "cvar95 = sorted_yield_returns[sorted_yield_returns <= var_hist_percent].mean()\n",
    "\n",
    "print('CVaR 95%:')\n",
    "print('The average loss when VaR is exceeded is' + str((cvar95*100).round(2)) + '%')\n",
    "print('Or losing ' + str((cvar95*value_portfolio).round(2)) + ' EUR for a portfolio of ' + str(value_portfolio) + ' EUR of CW8')"
   ]
  },
  {
   "cell_type": "markdown",
   "id": "1b4ca1db-8226-436b-a36a-eb9b9e26b795",
   "metadata": {},
   "source": [
    "## Graphical representation"
   ]
  },
  {
   "cell_type": "code",
   "execution_count": 31,
   "id": "582c38cb-4c39-41e4-a5e2-c5ab6a785fad",
   "metadata": {},
   "outputs": [
    {
     "data": {
      "image/png": "[encoded data removed]",
      "text/plain": [
       "<Figure size 640x480 with 1 Axes>"
      ]
     },
     "metadata": {},
     "output_type": "display_data"
    }
   ],
   "source": [
    "# Create graph\n",
    "sns.histplot(sorted_yield_returns, bins=100, kde=True, color='lightblue')\n",
    "var_95 = np.percentile(sorted_yield_returns.dropna(), 5)\n",
    "cvar_95 = sorted_yield_returns[sorted_yield_returns <= var_95].mean()\n",
    "plt.axvline(var_95, color='green', linestyle='--', label=f'VaR 95%: {var_95:.2%}')\n",
    "plt.axvline(cvar_95, color='red', linestyle='--', label=f'VaR 95%: {cvar_95:.2%}')\n",
    "plt.legend()\n",
    "plt.title(\"Yield distribution for VaR and CVaR 95%\")\n",
    "plt.xlabel(\"Yield\")\n",
    "plt.ylabel(\"Frequency\")\n",
    "plt.gca().xaxis.set_major_formatter(mtick.PercentFormatter(1.0))\n",
    "plt.show()"
   ]
  },
  {
   "cell_type": "markdown",
   "id": "3370596a-9813-4abc-ab67-8013147738ca",
   "metadata": {},
   "source": [
    "## Create re usable code\n",
    "- Now let's create one function to do all steps\n",
    "- Avoid hardcode\n",
    "- Use parameters\n",
    "- Manage a Portfolio with several financial products\n",
    "- A portfolio has several financial products each one having an amount invested\n",
    "- The methods to compyte the VaR remains the same but it's done for all the Portfolio\n",
    "\n",
    "Our Portfolio is 1 000 000 € for:\n",
    "- CW8.PA 500 000 €\n",
    "- NVDA\": 250 000 €\n",
    "- TSLA\": 250 000 €"
   ]
  },
  {
   "cell_type": "code",
   "execution_count": 32,
   "id": "447aaf5d-fe60-44a5-afd4-05a859926013",
   "metadata": {},
   "outputs": [
    {
     "name": "stdout",
     "output_type": "stream",
     "text": [
      "VaR and CVaR for Portfolio: CW8.PA NVDA TSLA\n",
      "VaR 95% is : -3.02%\n",
      "CVaR 95% is : -4.01%\n",
      "This means there is a probability of 5% (100 - 95%) to lose more than -3.02% per day\n",
      "Meaning 95% of the time the loss will be inferior to -3.02%\n"
     ]
    },
    {
     "data": {
      "image/png": "[encoded data removed]",
      "text/plain": [
       "<Figure size 640x480 with 1 Axes>"
      ]
     },
     "metadata": {},
     "output_type": "display_data"
    }
   ],
   "source": [
    "from finance_compute_helper import (\n",
    "    show_ptf_var_cvar_report,\n",
    "    ptf_yields_returns,\n",
    "    var_histo,\n",
    "    cvar\n",
    ")\n",
    "from datetime import date\n",
    "\n",
    "# Data inputs\n",
    "today = date.today().strftime(\"%Y-%m-%d\") # end date\n",
    "start_date = \"2022-01-01\"\n",
    "\n",
    "portfolio_dict = {\n",
    "    \"CW8.PA\": 500000,\n",
    "    \"NVDA\": 250000,\n",
    "    \"TSLA\": 250000,\n",
    "}\n",
    "\n",
    "trust_level = 95 # alpha\n",
    "\n",
    "yield_returns, list_names = ptf_yields_returns(portfolio_dict, start_date, today)\n",
    "var95 = var_histo(yield_returns, trust_level)\n",
    "cvar95 = cvar(yield_returns, var95)\n",
    "show_ptf_var_cvar_report(list_names, 95, yield_returns, var95, cvar95)"
   ]
  }
 ],
 "metadata": {
  "kernelspec": {
   "display_name": "Python 3 (ipykernel)",
   "language": "python",
   "name": "python3"
  },
  "language_info": {
   "codemirror_mode": {
    "name": "ipython",
    "version": 3
   },
   "file_extension": ".py",
   "mimetype": "text/x-python",
   "name": "python",
   "nbconvert_exporter": "python",
   "pygments_lexer": "ipython3",
   "version": "3.12.3"
  }
 },
 "nbformat": 4,
 "nbformat_minor": 5
}
