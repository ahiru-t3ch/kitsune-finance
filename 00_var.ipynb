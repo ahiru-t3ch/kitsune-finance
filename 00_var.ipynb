{
 "cells": [
  {
   "cell_type": "markdown",
   "id": "38c5e08b-97ff-45cd-a6f5-a5d279f874f3",
   "metadata": {},
   "source": [
    "# VaR - Value at Risk"
   ]
  },
  {
   "cell_type": "markdown",
   "id": "96159340-d7d5-4499-a038-98704fa9a524",
   "metadata": {},
   "source": [
    "## Definition\n",
    "Potential loss of a financial asset or a portfolio for a trust level and a specific period.\n",
    "\n",
    "There are 3 methods to compute VaR:\n",
    "- Historical Simulation\n",
    "- Variance-Covariance VaR\n",
    "- Monte Carlo Simulation"
   ]
  },
  {
   "cell_type": "markdown",
   "id": "cacb974d-a28d-4afa-a8b3-d06788f0ed05",
   "metadata": {},
   "source": [
    "## Historical Simulation\n",
    "Get the historical financial yields, sort those financial yields and take the quantile corresponding to the trust level."
   ]
  },
  {
   "cell_type": "markdown",
   "id": "aa4912f7-7bbf-4504-a4bb-e40f2a31461a",
   "metadata": {},
   "source": [
    "### Compute for 1 Asset"
   ]
  },
  {
   "cell_type": "code",
   "execution_count": 5,
   "id": "3fab862a-fba4-49ed-ae1c-58ea09a05900",
   "metadata": {},
   "outputs": [],
   "source": [
    "from datetime import date\n",
    "import yfinance as yf\n",
    "import numpy as np\n",
    "import pandas as pd\n",
    "import matplotlib.pyplot as plt\n",
    "import matplotlib.ticker as mtick\n",
    "import seaborn as sns"
   ]
  },
  {
   "cell_type": "code",
   "execution_count": 6,
   "id": "82446108-fe5f-495f-afab-bb62c9ce1af1",
   "metadata": {},
   "outputs": [
    {
     "data": {
      "text/plain": [
       "'Amundi Index Solutions - Amundi MSCI World UCITS ETF C EUR'"
      ]
     },
     "execution_count": 6,
     "metadata": {},
     "output_type": "execute_result"
    }
   ],
   "source": [
    "# Get data from Yahoo Finance for CW8 ETF\n",
    "dat = yf.Ticker(\"CW8.PA\")\n",
    "# Print Name\n",
    "dat.info['longName']"
   ]
  },
  {
   "cell_type": "code",
   "execution_count": 8,
   "id": "cb1cfa9b-89fb-4aca-ab92-699c72fe2985",
   "metadata": {},
   "outputs": [
    {
     "data": {
      "text/html": [
       "<div>\n",
       "<style scoped>\n",
       "    .dataframe tbody tr th:only-of-type {\n",
       "        vertical-align: middle;\n",
       "    }\n",
       "\n",
       "    .dataframe tbody tr th {\n",
       "        vertical-align: top;\n",
       "    }\n",
       "\n",
       "    .dataframe thead th {\n",
       "        text-align: right;\n",
       "    }\n",
       "</style>\n",
       "<table border=\"1\" class=\"dataframe\">\n",
       "  <thead>\n",
       "    <tr style=\"text-align: right;\">\n",
       "      <th></th>\n",
       "      <th>Open</th>\n",
       "      <th>High</th>\n",
       "      <th>Low</th>\n",
       "      <th>Close</th>\n",
       "      <th>Volume</th>\n",
       "      <th>Dividends</th>\n",
       "      <th>Stock Splits</th>\n",
       "      <th>Capital Gains</th>\n",
       "    </tr>\n",
       "    <tr>\n",
       "      <th>Date</th>\n",
       "      <th></th>\n",
       "      <th></th>\n",
       "      <th></th>\n",
       "      <th></th>\n",
       "      <th></th>\n",
       "      <th></th>\n",
       "      <th></th>\n",
       "      <th></th>\n",
       "    </tr>\n",
       "  </thead>\n",
       "  <tbody>\n",
       "    <tr>\n",
       "      <th>2025-07-22 00:00:00+02:00</th>\n",
       "      <td>557.148193</td>\n",
       "      <td>557.913574</td>\n",
       "      <td>554.500122</td>\n",
       "      <td>555.143005</td>\n",
       "      <td>8017</td>\n",
       "      <td>0.0</td>\n",
       "      <td>0.0</td>\n",
       "      <td>0.0</td>\n",
       "    </tr>\n",
       "    <tr>\n",
       "      <th>2025-07-23 00:00:00+02:00</th>\n",
       "      <td>558.508789</td>\n",
       "      <td>560.499817</td>\n",
       "      <td>558.299988</td>\n",
       "      <td>559.756226</td>\n",
       "      <td>3620</td>\n",
       "      <td>0.0</td>\n",
       "      <td>0.0</td>\n",
       "      <td>0.0</td>\n",
       "    </tr>\n",
       "    <tr>\n",
       "      <th>2025-07-24 00:00:00+02:00</th>\n",
       "      <td>561.337585</td>\n",
       "      <td>562.255798</td>\n",
       "      <td>559.750000</td>\n",
       "      <td>560.994812</td>\n",
       "      <td>9183</td>\n",
       "      <td>0.0</td>\n",
       "      <td>0.0</td>\n",
       "      <td>0.0</td>\n",
       "    </tr>\n",
       "    <tr>\n",
       "      <th>2025-07-25 00:00:00+02:00</th>\n",
       "      <td>560.958618</td>\n",
       "      <td>562.446716</td>\n",
       "      <td>560.082275</td>\n",
       "      <td>562.080872</td>\n",
       "      <td>3923</td>\n",
       "      <td>0.0</td>\n",
       "      <td>0.0</td>\n",
       "      <td>0.0</td>\n",
       "    </tr>\n",
       "    <tr>\n",
       "      <th>2025-07-28 00:00:00+02:00</th>\n",
       "      <td>566.005981</td>\n",
       "      <td>567.500000</td>\n",
       "      <td>565.374329</td>\n",
       "      <td>566.783875</td>\n",
       "      <td>9792</td>\n",
       "      <td>0.0</td>\n",
       "      <td>0.0</td>\n",
       "      <td>0.0</td>\n",
       "    </tr>\n",
       "  </tbody>\n",
       "</table>\n",
       "</div>"
      ],
      "text/plain": [
       "                                 Open        High         Low       Close  \\\n",
       "Date                                                                        \n",
       "2025-07-22 00:00:00+02:00  557.148193  557.913574  554.500122  555.143005   \n",
       "2025-07-23 00:00:00+02:00  558.508789  560.499817  558.299988  559.756226   \n",
       "2025-07-24 00:00:00+02:00  561.337585  562.255798  559.750000  560.994812   \n",
       "2025-07-25 00:00:00+02:00  560.958618  562.446716  560.082275  562.080872   \n",
       "2025-07-28 00:00:00+02:00  566.005981  567.500000  565.374329  566.783875   \n",
       "\n",
       "                           Volume  Dividends  Stock Splits  Capital Gains  \n",
       "Date                                                                       \n",
       "2025-07-22 00:00:00+02:00    8017        0.0           0.0            0.0  \n",
       "2025-07-23 00:00:00+02:00    3620        0.0           0.0            0.0  \n",
       "2025-07-24 00:00:00+02:00    9183        0.0           0.0            0.0  \n",
       "2025-07-25 00:00:00+02:00    3923        0.0           0.0            0.0  \n",
       "2025-07-28 00:00:00+02:00    9792        0.0           0.0            0.0  "
      ]
     },
     "execution_count": 8,
     "metadata": {},
     "output_type": "execute_result"
    }
   ],
   "source": [
    "# Get data for a specific period\n",
    "# replace by \"period = max\" to get all data\n",
    "# and put result into dataframe\n",
    "today = date.today().strftime(\"%Y-%m-%d\")\n",
    "df = dat.history(start='2022-01-01', end=today)\n",
    "\n",
    "# Print tail of the dataframe\n",
    "df.tail()"
   ]
  },
  {
   "cell_type": "code",
   "execution_count": 9,
   "id": "1da8b440-d36e-4a32-8546-1afbc0835ad8",
   "metadata": {},
   "outputs": [
    {
     "data": {
      "text/html": [
       "<div>\n",
       "<style scoped>\n",
       "    .dataframe tbody tr th:only-of-type {\n",
       "        vertical-align: middle;\n",
       "    }\n",
       "\n",
       "    .dataframe tbody tr th {\n",
       "        vertical-align: top;\n",
       "    }\n",
       "\n",
       "    .dataframe thead th {\n",
       "        text-align: right;\n",
       "    }\n",
       "</style>\n",
       "<table border=\"1\" class=\"dataframe\">\n",
       "  <thead>\n",
       "    <tr style=\"text-align: right;\">\n",
       "      <th></th>\n",
       "      <th>Open</th>\n",
       "      <th>High</th>\n",
       "      <th>Low</th>\n",
       "      <th>Close</th>\n",
       "      <th>Volume</th>\n",
       "      <th>Dividends</th>\n",
       "      <th>Stock Splits</th>\n",
       "      <th>Capital Gains</th>\n",
       "      <th>yield_return</th>\n",
       "    </tr>\n",
       "    <tr>\n",
       "      <th>Date</th>\n",
       "      <th></th>\n",
       "      <th></th>\n",
       "      <th></th>\n",
       "      <th></th>\n",
       "      <th></th>\n",
       "      <th></th>\n",
       "      <th></th>\n",
       "      <th></th>\n",
       "      <th></th>\n",
       "    </tr>\n",
       "  </thead>\n",
       "  <tbody>\n",
       "    <tr>\n",
       "      <th>2025-04-03 00:00:00+02:00</th>\n",
       "      <td>518.130676</td>\n",
       "      <td>521.133606</td>\n",
       "      <td>506.399994</td>\n",
       "      <td>511.153809</td>\n",
       "      <td>23464</td>\n",
       "      <td>0.0</td>\n",
       "      <td>0.0</td>\n",
       "      <td>0.0</td>\n",
       "      <td>-0.049131</td>\n",
       "    </tr>\n",
       "    <tr>\n",
       "      <th>2025-04-09 00:00:00+02:00</th>\n",
       "      <td>468.564301</td>\n",
       "      <td>473.851898</td>\n",
       "      <td>456.474091</td>\n",
       "      <td>466.432587</td>\n",
       "      <td>21379</td>\n",
       "      <td>0.0</td>\n",
       "      <td>0.0</td>\n",
       "      <td>0.0</td>\n",
       "      <td>-0.047044</td>\n",
       "    </tr>\n",
       "    <tr>\n",
       "      <th>2025-04-04 00:00:00+02:00</th>\n",
       "      <td>504.045807</td>\n",
       "      <td>505.296112</td>\n",
       "      <td>482.500000</td>\n",
       "      <td>487.880005</td>\n",
       "      <td>33294</td>\n",
       "      <td>0.0</td>\n",
       "      <td>0.0</td>\n",
       "      <td>0.0</td>\n",
       "      <td>-0.045532</td>\n",
       "    </tr>\n",
       "    <tr>\n",
       "      <th>2022-01-24 00:00:00+01:00</th>\n",
       "      <td>407.884094</td>\n",
       "      <td>408.857086</td>\n",
       "      <td>394.380005</td>\n",
       "      <td>395.134491</td>\n",
       "      <td>21288</td>\n",
       "      <td>0.0</td>\n",
       "      <td>0.0</td>\n",
       "      <td>0.0</td>\n",
       "      <td>-0.040540</td>\n",
       "    </tr>\n",
       "    <tr>\n",
       "      <th>2024-08-02 00:00:00+02:00</th>\n",
       "      <td>509.501099</td>\n",
       "      <td>510.082092</td>\n",
       "      <td>495.000092</td>\n",
       "      <td>496.610107</td>\n",
       "      <td>12875</td>\n",
       "      <td>0.0</td>\n",
       "      <td>0.0</td>\n",
       "      <td>0.0</td>\n",
       "      <td>-0.039840</td>\n",
       "    </tr>\n",
       "    <tr>\n",
       "      <th>...</th>\n",
       "      <td>...</td>\n",
       "      <td>...</td>\n",
       "      <td>...</td>\n",
       "      <td>...</td>\n",
       "      <td>...</td>\n",
       "      <td>...</td>\n",
       "      <td>...</td>\n",
       "      <td>...</td>\n",
       "      <td>...</td>\n",
       "    </tr>\n",
       "    <tr>\n",
       "      <th>2022-02-25 00:00:00+01:00</th>\n",
       "      <td>395.320007</td>\n",
       "      <td>402.694305</td>\n",
       "      <td>393.411499</td>\n",
       "      <td>402.694305</td>\n",
       "      <td>4336</td>\n",
       "      <td>0.0</td>\n",
       "      <td>0.0</td>\n",
       "      <td>0.0</td>\n",
       "      <td>0.031448</td>\n",
       "    </tr>\n",
       "    <tr>\n",
       "      <th>2025-05-12 00:00:00+02:00</th>\n",
       "      <td>540.088196</td>\n",
       "      <td>547.274780</td>\n",
       "      <td>539.562622</td>\n",
       "      <td>543.510620</td>\n",
       "      <td>11768</td>\n",
       "      <td>0.0</td>\n",
       "      <td>0.0</td>\n",
       "      <td>0.0</td>\n",
       "      <td>0.032785</td>\n",
       "    </tr>\n",
       "    <tr>\n",
       "      <th>2025-04-08 00:00:00+02:00</th>\n",
       "      <td>482.922485</td>\n",
       "      <td>497.624695</td>\n",
       "      <td>481.584015</td>\n",
       "      <td>489.458588</td>\n",
       "      <td>21315</td>\n",
       "      <td>0.0</td>\n",
       "      <td>0.0</td>\n",
       "      <td>0.0</td>\n",
       "      <td>0.034946</td>\n",
       "    </tr>\n",
       "    <tr>\n",
       "      <th>2025-04-10 00:00:00+02:00</th>\n",
       "      <td>510.766205</td>\n",
       "      <td>511.797607</td>\n",
       "      <td>484.892395</td>\n",
       "      <td>484.892395</td>\n",
       "      <td>27284</td>\n",
       "      <td>0.0</td>\n",
       "      <td>0.0</td>\n",
       "      <td>0.0</td>\n",
       "      <td>0.039577</td>\n",
       "    </tr>\n",
       "    <tr>\n",
       "      <th>2022-01-03 00:00:00+01:00</th>\n",
       "      <td>435.542908</td>\n",
       "      <td>437.246185</td>\n",
       "      <td>433.701813</td>\n",
       "      <td>435.989899</td>\n",
       "      <td>6803</td>\n",
       "      <td>0.0</td>\n",
       "      <td>0.0</td>\n",
       "      <td>0.0</td>\n",
       "      <td>NaN</td>\n",
       "    </tr>\n",
       "  </tbody>\n",
       "</table>\n",
       "<p>913 rows × 9 columns</p>\n",
       "</div>"
      ],
      "text/plain": [
       "                                 Open        High         Low       Close  \\\n",
       "Date                                                                        \n",
       "2025-04-03 00:00:00+02:00  518.130676  521.133606  506.399994  511.153809   \n",
       "2025-04-09 00:00:00+02:00  468.564301  473.851898  456.474091  466.432587   \n",
       "2025-04-04 00:00:00+02:00  504.045807  505.296112  482.500000  487.880005   \n",
       "2022-01-24 00:00:00+01:00  407.884094  408.857086  394.380005  395.134491   \n",
       "2024-08-02 00:00:00+02:00  509.501099  510.082092  495.000092  496.610107   \n",
       "...                               ...         ...         ...         ...   \n",
       "2022-02-25 00:00:00+01:00  395.320007  402.694305  393.411499  402.694305   \n",
       "2025-05-12 00:00:00+02:00  540.088196  547.274780  539.562622  543.510620   \n",
       "2025-04-08 00:00:00+02:00  482.922485  497.624695  481.584015  489.458588   \n",
       "2025-04-10 00:00:00+02:00  510.766205  511.797607  484.892395  484.892395   \n",
       "2022-01-03 00:00:00+01:00  435.542908  437.246185  433.701813  435.989899   \n",
       "\n",
       "                           Volume  Dividends  Stock Splits  Capital Gains  \\\n",
       "Date                                                                        \n",
       "2025-04-03 00:00:00+02:00   23464        0.0           0.0            0.0   \n",
       "2025-04-09 00:00:00+02:00   21379        0.0           0.0            0.0   \n",
       "2025-04-04 00:00:00+02:00   33294        0.0           0.0            0.0   \n",
       "2022-01-24 00:00:00+01:00   21288        0.0           0.0            0.0   \n",
       "2024-08-02 00:00:00+02:00   12875        0.0           0.0            0.0   \n",
       "...                           ...        ...           ...            ...   \n",
       "2022-02-25 00:00:00+01:00    4336        0.0           0.0            0.0   \n",
       "2025-05-12 00:00:00+02:00   11768        0.0           0.0            0.0   \n",
       "2025-04-08 00:00:00+02:00   21315        0.0           0.0            0.0   \n",
       "2025-04-10 00:00:00+02:00   27284        0.0           0.0            0.0   \n",
       "2022-01-03 00:00:00+01:00    6803        0.0           0.0            0.0   \n",
       "\n",
       "                           yield_return  \n",
       "Date                                     \n",
       "2025-04-03 00:00:00+02:00     -0.049131  \n",
       "2025-04-09 00:00:00+02:00     -0.047044  \n",
       "2025-04-04 00:00:00+02:00     -0.045532  \n",
       "2022-01-24 00:00:00+01:00     -0.040540  \n",
       "2024-08-02 00:00:00+02:00     -0.039840  \n",
       "...                                 ...  \n",
       "2022-02-25 00:00:00+01:00      0.031448  \n",
       "2025-05-12 00:00:00+02:00      0.032785  \n",
       "2025-04-08 00:00:00+02:00      0.034946  \n",
       "2025-04-10 00:00:00+02:00      0.039577  \n",
       "2022-01-03 00:00:00+01:00           NaN  \n",
       "\n",
       "[913 rows x 9 columns]"
      ]
     },
     "execution_count": 9,
     "metadata": {},
     "output_type": "execute_result"
    }
   ],
   "source": [
    "# Create column Yield_return\n",
    "# Use function pct_change that computes the fractional change between current and previous element to do it\n",
    "df['yield_return'] = df['Close'].pct_change().dropna()\n",
    "# To computer VaR we need to sort Yield value\n",
    "df_sorted = df.sort_values(by='yield_return')\n",
    "df_sorted"
   ]
  },
  {
   "cell_type": "code",
   "execution_count": 10,
   "id": "83c82395-a7ba-4345-a4d5-03ae8f7a00e6",
   "metadata": {},
   "outputs": [
    {
     "name": "stdout",
     "output_type": "stream",
     "text": [
      "Historical VaR 95% in percent:-1.49%\n",
      "Historical VaR 95% in value:-14879.08 EUR\n"
     ]
    }
   ],
   "source": [
    "# Inputs data to compute Historical VaR\n",
    "sorted_yield_returns = df_sorted['yield_return'].dropna()\n",
    "alpha = 95/100\n",
    "value_portfolio = 1000000\n",
    "\n",
    "# Compute Historical VaR in percentage\n",
    "# and value for a given portfolio of 1 000 000 EUR of CW8\n",
    "var_hist_percent = np.percentile(sorted_yield_returns, (1 - alpha) * 100)\n",
    "var_hist_value = var_hist_percent * value_portfolio\n",
    "\n",
    "print('Historical VaR 95% in percent:' + str((var_hist_percent*100).round(2)) + '%')\n",
    "print('Historical VaR 95% in value:' + str(var_hist_value.round(2)) + ' EUR')\n",
    "\n",
    "# Display the VaR:\n",
    "# print('Var 95% is : '+ (np.percentile(df_sorted['Yield'].dropna(), 5)*100).round(2).astype(str) + '%')"
   ]
  },
  {
   "cell_type": "markdown",
   "id": "1b4ca1db-8226-436b-a36a-eb9b9e26b795",
   "metadata": {
    "jp-MarkdownHeadingCollapsed": true
   },
   "source": [
    "### Conclusion\n",
    "- There is a probability of 5% (1 - 95%) to lose more than -1.44% per day or to lose 14373,66 EUR for a portfolio of CW8 of 1 000 000 EUR.\n",
    "- Or 95% of the time the loss will be inferior to -1.44% or inferior to 14373,66 EUR for a portfolio of CW8 of 1 000 000 EUR."
   ]
  },
  {
   "cell_type": "markdown",
   "id": "007474e6-42fd-4896-8b03-bd5b07679db8",
   "metadata": {},
   "source": [
    "### Graphical representation"
   ]
  },
  {
   "cell_type": "code",
   "execution_count": 11,
   "id": "582c38cb-4c39-41e4-a5e2-c5ab6a785fad",
   "metadata": {},
   "outputs": [
    {
     "data": {
      "image/png": "[encoded data removed]",
      "text/plain": [
       "<Figure size 640x480 with 1 Axes>"
      ]
     },
     "metadata": {},
     "output_type": "display_data"
    }
   ],
   "source": [
    "# Create graph\n",
    "sns.histplot(df_sorted['yield_return'], bins=100, kde=True, color='lightblue')\n",
    "var_95 = np.percentile(df_sorted['yield_return'].dropna(), 5)\n",
    "plt.axvline(var_95, color='red', linestyle='--', label=f'VaR 95%: {var_95:.2%}')\n",
    "plt.legend()\n",
    "plt.title(\"Yield distribution for VaR 95%\")\n",
    "plt.xlabel(\"Yield\")\n",
    "plt.ylabel(\"Frequency\")\n",
    "plt.gca().xaxis.set_major_formatter(mtick.PercentFormatter(1.0))\n",
    "plt.show()"
   ]
  },
  {
   "cell_type": "markdown",
   "id": "3370596a-9813-4abc-ab67-8013147738ca",
   "metadata": {},
   "source": [
    "### Create reusalbe code\n",
    "- Now let's create one function to do all the work for us in one call.\n",
    "- Avoid hardcode.\n",
    "- Use parameters."
   ]
  },
  {
   "cell_type": "code",
   "execution_count": null,
   "id": "4ef1a235-9312-4ef9-825a-b2a4a944dc9d",
   "metadata": {},
   "outputs": [],
   "source": [
    "from finance_compute_helper import show_var_histo_report\n",
    "show_var_histo_report(\"CW8.PA\", 95)"
   ]
  },
  {
   "cell_type": "code",
   "execution_count": null,
   "id": "7b108030-411e-46c6-9e35-44ed4e6f20f3",
   "metadata": {},
   "outputs": [],
   "source": [
    "show_var_histo_report(\"NVDA\", 99)"
   ]
  },
  {
   "cell_type": "markdown",
   "id": "48a0a547-39c5-48c6-93c1-e587a79396ab",
   "metadata": {},
   "source": [
    "### Compute for N Assets\n",
    "- Before we computed the VaR for 1 Asset only.\n",
    "- But in a real situation a Portfolio has many Assets."
   ]
  },
  {
   "cell_type": "code",
   "execution_count": 5,
   "id": "188849b0-1f95-491b-b207-f403783c2f4e",
   "metadata": {},
   "outputs": [
    {
     "name": "stdout",
     "output_type": "stream",
     "text": [
      "The autoreload extension is already loaded. To reload it, use:\n",
      "  %reload_ext autoreload\n"
     ]
    }
   ],
   "source": [
    "%load_ext autoreload\n",
    "%autoreload 2"
   ]
  },
  {
   "cell_type": "code",
   "execution_count": 13,
   "id": "447aaf5d-fe60-44a5-afd4-05a859926013",
   "metadata": {},
   "outputs": [
    {
     "name": "stdout",
     "output_type": "stream",
     "text": [
      "VaR for Portfolio: CW8.PA NVDA TSLA\n",
      "Var 95% is : -3.03%\n",
      "This means there is a probability of 5% (100 - 95%) to lose more than -3.03% per day\n",
      "Meaning 95% of the time the loss will be inferior to -3.03%\n"
     ]
    },
    {
     "data": {
      "image/png": "[encoded data removed]",
      "text/plain": [
       "<Figure size 640x480 with 1 Axes>"
      ]
     },
     "metadata": {},
     "output_type": "display_data"
    }
   ],
   "source": [
    "from finance_compute_helper import show_ptf_var_histo_report, ptf_yields_returns, compute_var_histo\n",
    "from datetime import date\n",
    "\n",
    "today = date.today().strftime(\"%Y-%m-%d\")\n",
    "\n",
    "portfolio_dict = {\n",
    "    \"CW8.PA\": 50/100,\n",
    "    \"NVDA\": 25/100,\n",
    "    \"TSLA\": 25/100,\n",
    "}\n",
    "\n",
    "yield_returns, list_names = ptf_yields_returns(portfolio_dict,\"2022-01-01\",today)\n",
    "show_ptf_var_histo_report(list_names, 95, yield_returns)"
   ]
  },
  {
   "cell_type": "markdown",
   "id": "98b5e46d-8a0f-4c3a-97a4-1a874c8daaee",
   "metadata": {},
   "source": [
    "## Variance-Covariance VaR"
   ]
  },
  {
   "cell_type": "code",
   "execution_count": null,
   "id": "1b769d53-f31f-4e27-85bc-70bca661de76",
   "metadata": {},
   "outputs": [],
   "source": []
  }
 ],
 "metadata": {
  "kernelspec": {
   "display_name": "Python 3 (ipykernel)",
   "language": "python",
   "name": "python3"
  },
  "language_info": {
   "codemirror_mode": {
    "name": "ipython",
    "version": 3
   },
   "file_extension": ".py",
   "mimetype": "text/x-python",
   "name": "python",
   "nbconvert_exporter": "python",
   "pygments_lexer": "ipython3",
   "version": "3.12.3"
  }
 },
 "nbformat": 4,
 "nbformat_minor": 5
}
